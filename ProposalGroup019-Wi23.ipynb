{
 "cells": [
  {
   "cell_type": "markdown",
   "metadata": {},
   "source": [
    "# COGS 118A- Project Proposal"
   ]
  },
  {
   "cell_type": "markdown",
   "metadata": {},
   "source": [
    "# Project Description\n",
    "\n",
    "You will design and execute a machine learning project. There are a few constraints on the nature of the allowed project. \n",
    "- The problem addressed will not be a \"toy problem\" or \"common training students problem\" like mtcars, iris, palmer penguins etc.\n",
    "- The dataset will have >1k observations and >5 variables. I'd prefer more like >10k observations and >10 variables. A general rule is that if you have >100x more observations than variables, your solution will likely generalize a lot better. The goal of training a supervised machine learning model is to learn the underlying pattern in a dataset in order to generalize well to unseen data, so choosing a large dataset is very important.\n",
    "\n",
    "- The project will include a model selection and/or feature selection component where you will be looking for the best setup to maximize the performance of your ML system.\n",
    "- You will evaluate the performance of your ML system using more than one appropriate metric\n",
    "- You will be writing a report describing and discussing these accomplishments\n",
    "\n",
    "\n",
    "Feel free to delete this description section when you hand in your proposal."
   ]
  },
  {
   "cell_type": "markdown",
   "metadata": {},
   "source": [
    "### Peer Review\n",
    "\n",
    "You will all have an opportunity to look at the Project Proposals of other groups to fuel your creativity and get more ideas for how you can improve your own projects. \n",
    "\n",
    "Both the project proposal and project checkpoint will have peer review."
   ]
  },
  {
   "attachments": {},
   "cell_type": "markdown",
   "metadata": {},
   "source": [
    "# Names\n",
    "- Selim Shaalan\n",
    "- Dou Hoon Kwark\n",
    "- Chris Myers"
   ]
  },
  {
   "attachments": {},
   "cell_type": "markdown",
   "metadata": {},
   "source": [
    "# Abstract \n",
    "The objective of our project is to predict the usage rate of the Capital Bikeshare system in Washington D.C. Our analysis will be based on an hourly dataset containing weather observations (such as temperature, humidity, and wind speed), the day of the week, time of year, and the number of bikes rented in each hour. By analyzing this data, we aim to identify the factors that drive or inhibit bike rentals. Ultimately, we plan to develop a model that can accurately forecast the number of bike rentals for any given day or hour, provided we have information about the weather conditions and time of year.\n",
    "\n",
    "To achieve our goal, we will start by cleaning the data and enriching it with additional relevant features, such as precipitation. Next, we will train a variety of regression models on this dataset, and then select the model that performs best after hyperparameter tuning. Our evaluation metrics will be the root mean squared error and R2 of the testing set, with the model that produces the lowest error being chosen as the best performer. By following this approach, we expect to build a highly accurate model that can predict bike rental demand with precision."
   ]
  },
  {
   "attachments": {},
   "cell_type": "markdown",
   "metadata": {},
   "source": [
    "# Background\n",
    "\n",
    "The bike sharing dataset by capital bikeshare is a very well maintained dataset, with reports being published on their main website on a monthly basis<a href=\"#System\"><sup>[1]</sup></a>. It provides a selection of different variables that can be used to predict the amount of bikes that get shared on a daily or hourly basis, which makes it ideal for machine learning. This issue is relevant because figuring out the demand for these bikes allows bikeshare companies to provide a supply accordingly, and other stakeholders such as ridesharing or public transport services adjust their models using this information as well. Consequently, there have been some efforts on Kaggle to create models for this dataset, although these projects usually fall short in detail, since many of them forgo hyperparameter search<a href=\"#Bike\"><sup>[2]</sup></a>. While there are many that do not, they are constrained by Kaggle’s challenge to only use this specific dataset, which does not allow us to ask questions such as “Are bike rentals affected by rain?” Without relying solely on intuition suggesting this hypothesis to be true, further studies in Cracow, Poland reveals that there is a significant link between bike sharing systems and the amount of rain on that day<a href=\"#Pazdan\"><sup>[3]</sup></a>. \n",
    "\n",
    "Furthermore, we wanted to examine if the day and weather conditions had similar impacts on other vehicle sharing services such as Uber. Research has been conducted on this phenomenon independently through a study of Uber rides in New York and the weather, but it remains to be determined whether a similar or inverse trend will be observed when compared to the number of bike rentals during the same period since bikes and cars are usually thought of as substitute goods<a href=\"#Brodeur\"><sup>[4]</sup></a>.\n",
    "\n",
    "Finally, a paper by Gama and Fanaee-T makes liberal use of this dataset and tests out different modeling techniques for it, although designing an optimized model and minimizing errors was not the primary purpose of the paper<a href=\"#Fanaee\"><sup>[5]</sup></a>."
   ]
  },
  {
   "attachments": {},
   "cell_type": "markdown",
   "metadata": {},
   "source": [
    "# Problem Statement\n",
    "\n",
    "One of the biggest changes seen in cities around the world within the past decade is the rise of a new option for easy travel across medium-length distances: rentable micromobility solutions, which include electric scooters, traditional bicycles and e-bikes. While these devices provide great benefits to their users, they also provide significant headaches to the companies that operate them to maintain. Great effort must be expended to ensure that their supply meets demand–that enough devices are charged, operational, and ready-to-use each day for each user who wants to use one. Not having enough devices available could result in lost profits potentially disgruntled customers–a situation every business wants to avoid. \n",
    "\n",
    "A solution to avoid this problem is to know ahead of time what demand can be expected of micromobility systems, allowing companies to ensure that enough devices are available. One such system is the Washington D.C. Capital Bikeshare system, which includes over 5,400 bikes in its network. Therefore, they had collected weather, seasonal, and rental usage data on hourly as well as daily basis. Since quantified and measured data extracted from weather and seasonal information have been known to be reliable and used in many fields, such as weather forecasting, it is also reasonable to quantify and measure our target problem and solution. Furthermore, with the quantified information, we can also expect replicable prediction since the dataset consists of data from the whole year. \n"
   ]
  },
  {
   "attachments": {},
   "cell_type": "markdown",
   "metadata": {},
   "source": [
    "# Data\n",
    "\n",
    "#### Dataset 1: Bike Sharing Dataset\n",
    "The dataset is available from UCI Machine Learning Repository at [here](https://archive.ics.uci.edu/ml/datasets/Bike+Sharing+Dataset) or\n",
    "[Direct link to the dataset](https://archive.ics.uci.edu/ml/machine-learning-databases/00275/)\n",
    "\n",
    "This is a dataset with information about the amount of bikes rented from Capital Bikeshare in the years 2011-2012. It has been combined with weather data in that same time period as well as day and holiday data. The dataset has 17389 rows and 16 variables including one column for the number of bikes rented. Every row corresponds to information about what hour/day it is, what the weather was like and how many bikes were rented during that period.\n",
    "\n",
    "In the dataset, an observation consists of the following:\n",
    "- instant: record index\n",
    "- dteday : The date in MM/DD/YYYY format\n",
    "- season : season (1:winter, 2:spring, 3:summer, 4:fall)\n",
    "- yr : year (0: 2011, 1:2012)\n",
    "- mnth : month ( 1 to 12)\n",
    "- hr : hour (0 to 23)\n",
    "- holiday : Whether the given day is a U.S holiday or not \n",
    "- weekday : The day of the week\n",
    "- workingday : if day is neither weekend nor holiday, the value is 1, otherwise it is 0.\n",
    "- weathersit :\n",
    "  - 1: Clear, Few clouds, Partly cloudy, Partly cloudy\n",
    "  - 2: Mist + Cloudy, Mist + Broken clouds, Mist + Few clouds, Mist\n",
    "  - 3: Light Snow, Light Rain + Thunderstorm + Scattered clouds, Light Rain + Scattered clouds\n",
    "  - 4: Heavy Rain + Ice Pellets + Thunderstorm + Mist, Snow + Fog\n",
    "- temp : Normalized temperature in Celsius. The values are derived via (t-t_min)/(t_max-t_min), t_min=-8, t_max=+39 (only in hourly scale)\n",
    "- atemp: Normalized feeling temperature in Celsius. The values are derived via (t-t_min)/(t_max-t_min), t_min=-16, t_max=+50 (only in hourly scale)\n",
    "- hum: Normalized humidity. The values are divided to 100 (max)\n",
    "- windspeed: Normalized wind speed. The values are divided to 67 (max)\n",
    "- casual: count of casual users\n",
    "- registered: count of registered users\n",
    "- cnt: count of total rental bikes including both casual and registered\n",
    "\n",
    "Unlike other other preferred transportation, a user tends to more care about the seasonal and weather conditions since they are directly exposed to the conditions by choosing a bicycle as the method of transportation. Therefore, we can notice that every variable from an observation could have significant impact on the number of bicycles rented. It is also important to note that possible numerical values have been normalized to prevent the model from having unnecessary extra weights on those values. Although the dataset is well organized and clearly preprocessed, we believe that we still need to one-hot encode some nominal data and possibly drop variabel dteday.\n",
    "\n",
    "We are looking for 2 additional datasets, one with more detailed weather data for the dc area during our time period (2011-2012), particularly for precipitation data. The data should be the weather report for each individual day in 2011-2012 and then it would just be a matter of merging it with our original dataframe. If it is hourly then the merge will be clean, and if it is daily then we can perform another analysis with only the day information and merge with that dataset. Will possibly need to clean it depending on the data is formatted and its granularity. \n",
    "The other dataset is one for another ride sharing service during that time so we can compare the trend of ridesharing services vs bikesharing services and how they are both impacted by weather. We foresee that this may be hard to find, so we’ll only implement this part of the project if we find an appropriate dataset. \n"
   ]
  },
  {
   "attachments": {},
   "cell_type": "markdown",
   "metadata": {},
   "source": [
    "# Proposed Solution\n",
    "\n",
    "We propose building regression models based on weather and seasonal factors from the dataset to solve our stated problem. Our solution will involve multivariate regression, K-NN, as well as SVM to model the relationship between the predictors and the response variable. Regression modeling is the most appropriate approach because our target prediction involves numerical values rather than classification. Our solution is applicable for several reasons:\n",
    "\n",
    "\n",
    "Multivariate regression: Multivariate regression is a popular and highly interpretable model for capturing the relationship between dependent and independent variables. Also, due to its high interpretability, we can generate a strong interpretable model if it fits well in our dataset. Therefore, it is a good starting point to model the relationship between the predictors and the response variables.\n",
    "\n",
    "\n",
    "K-NN(K-nearest neighbor): It is also known as a strong model that can be used as a regression  model to predict the target well if the dataset has a large number of observations and few features. The K-NN model tries to find the possible relationship between our desired prediction and k nearest data points that the model remembers. In our dataset, there are more than 17000 observations, while there are less than 20 features to consider to train our model. Therefore, K-NN will produce a good performance.\n",
    "\n",
    "\n",
    "SVM(Support Vector Machine): SVM is a flexible and robust model that provides high performance in regression prediction. Also, it draws strong hyperplans based on the observations in the dataset to capture possible complex variable relationships. Therefore, it will fit well when it comes to all the different types of potential underlying variable relationships that we want to capture.\n",
    "\n",
    "\n",
    "To evaluate the performance of the suggested models, we will use k-fold cross-validation to estimate their accuracy on new data, and we will use grid search to optimize the hyperparameters of each model. We plan to implement the models using the sklearn Python library to ensure reproducibility and minimize implementation errors.\n",
    "\n",
    "\n",
    "In summary, we are confident that our proposed solution will work well for predicting bicycle rentals based on weather and seasonal factors.\n"
   ]
  },
  {
   "attachments": {},
   "cell_type": "markdown",
   "metadata": {},
   "source": [
    "# Evaluation Metrics\n",
    "\n",
    "We plan to use both $R^2$ and $RMSE$ as evaluation metrics to assess the performance of our benchmark model and solution model. Our goal is to create a robust regression model that can predict precise quantities of rental bicycles based on weather and seasonal factors.\n",
    "\n",
    "In building our regression model, we understand the importance of using both $R^2$ and $RMSE$ metrics as they complement each other in providing an accurate picture of model performance. $R^2$ measures how well our data fits our regression model, while $RMSE$ quantifies the error between the predicted and actual values of the model.\n",
    "\n",
    "The formulae for both metrics are as follows: \n",
    "\n",
    "$R^2$ = $1 - \\frac{RSS}{TSS}$, where $RSS$ represents the sum of squares of residuals and $TSS$ represents the total sum of squares. \n",
    "\n",
    "$RMSE$ = $\\sqrt{\\frac{\\sum_{i=1}^{N}(y_{pred} - y_{actual})^2}{N}}$, where $y_{pred}$ represents the predicted value from our model, $y_{actual}$ represents the actual value, and $N$ represents the number of data points.\n",
    "\n",
    "By utilizing both $R^2$ and $RMSE$, we can better evaluate the quality of our regression model and ensure that it accurately predicts the desired quantities of rental bicycles.\n"
   ]
  },
  {
   "cell_type": "markdown",
   "metadata": {},
   "source": [
    "# Ethics & Privacy"
   ]
  },
  {
   "attachments": {},
   "cell_type": "markdown",
   "metadata": {},
   "source": [
    "Currently, our dataset itself does not have any part that could potentially raise issues concerning ethics and privacy since it only contains weather observations, seasonal information, and the hourly count of rental bicycle. Also, it has already been filtered by one of the reliable sources, UCI Machine Learning Repository. Nonetheless, in order to prevent any type of unpredictable issues that we possibly overlook through further project process and collecting additional possible datasets, we should observe the following items:\n",
    "\n",
    "- Data Privacy: We will make sure that there is no issue regarding private information and the any form of information is always anonymized while we further our research and project.\n",
    "\n",
    "- Discrimination and Fairness: We will make sure that there is no outcome from our model that potentially brings up any form of discrimination and fairness issues against any certain groups or individuals by always carefully choosing right options to develop our model.\n",
    "\n",
    "- Transparency and Explainability: We will make sure that the process of our research and project is transparent as well as explainable so that our project can be a reliable and trustworthy source to machine learning community. \n",
    "\n",
    "- Intellectual property: we will make sure that there is no intellectual property infringement by properly handling ideas from any other resources and observing academic integrity if any. Also, if we have any concerns about the regarding issues, we will make sure that we always discuss with our course instructing team.\n",
    "  \n",
    "In addition to the items listed above, we will make sure that we always utilize the tools that helps our project healthy in terms of ethics and privacy, such as checklist from https://deon.drivendata.org.\n"
   ]
  },
  {
   "cell_type": "markdown",
   "metadata": {},
   "source": [
    "# Team Expectations "
   ]
  },
  {
   "attachments": {},
   "cell_type": "markdown",
   "metadata": {},
   "source": [
    "- Communication and Interaction: We should always be honest and respectful for each other to keep our communication healthy. We should actively listen to each other and build up strong psychological safety zone.\n",
    "  \n",
    "- Handling Conflicts and Difficulty: We should acknowledge that it is always possible to have any kinds of conflicts. Therefore, we should always be open to discuss such topics and try our best to understand each other.\n",
    "  \n",
    "- Decision Making and Goal/Schedule Settings: We should collaboratively establish clear goals, deadlines, and expectations for each other by carefully listening to everyone’s opinions so that there would not be any equivocal aspects that possibly bring another issue.\n",
    "  \n",
    "- Workload Expectations: We should understand everyone has all different schedules and expectations. We should also encourage each other to bring up any potential issues regarding workload expectations and be willing to offer help and support to each other when needed.\n",
    "  \n",
    "- Handling Deadlines: We should be always punctual and make sure to have reliable plans to deal with deadlines by adhering to the suggested team expectations above.\n"
   ]
  },
  {
   "cell_type": "markdown",
   "metadata": {},
   "source": [
    "# Project Timeline Proposal"
   ]
  },
  {
   "attachments": {},
   "cell_type": "markdown",
   "metadata": {},
   "source": [
    "| Meeting Date  | Meeting Time| Completed Before Meeting  | Discuss at Meeting |\n",
    "|---|---|---|---|\n",
    "| 2/14  |  6 PM |  Brainstorm topics/questions (all)  | Determine best form of communication; Discuss and decide on final project topic; Discuss approaches to collect datasets | \n",
    "| 2/20  |  10 AM |  Do background research on discussed topics (all) | Discuss ideal dataset(s) and ethics; draft project proposal | \n",
    "| 2/22  | Noon  | Edit, finalize, and submit proposal (Due date: Wed, Feb 22); Search for datasets (all)  | Discuss Wrangling and possible approaches to do EDA on the dataset; Assign group members to lead each specific part   |\n",
    "| 2/28  | 6 PM  | Import & Wrangle Data; Do some EDA (all) | Review/Edit wrangling/EDA; Plan out approaches to handle the preprocessed dataset, including which ML techniques to apply and what Model selection/ Validation methods to use   |\n",
    "| 3/7  | 6 PM  | Finalize wrangling/EDA; Begin training models on the dataset for project; Edit/submit Project Checkpoint (Due date: Wed, Mar 8) (all) | Discuss/edit project code for training, validation, testing; Discuss ways to analyze the final results |\n",
    "| 3/14  | 6 PM  | Complete analysis; Draft results/conclusion/discussion (all)| Complete full project and Github documents  |\n",
    "| 3/19  | Before 11:59 PM  | NA | Turn in Final Project  |"
   ]
  },
  {
   "attachments": {},
   "cell_type": "markdown",
   "metadata": {},
   "source": [
    "# Footnotes\n",
    "\n",
    "<a id=\"System\" href=\"https://capitalbikeshare.com/system-data\"></a>1.[^](#System): System data: Capital bikeshare. Capital Bikeshare: Metro DC's bikeshare service. (n.d.). Retrieved February 22, 2023, from https://capitalbikeshare.com/system-data <br> \n",
    "<a id=\"Bike\"></a>2.[^](#Bike): Bike sharing demand. Kaggle. (n.d.). Retrieved February 22, 2023, from https://www.kaggle.com/competitions/bike-sharing-demand/code <br>\n",
    "<a id=\"Pazdan\"></a>3.[^](#Pazdan): Pazdan, S., Kiec, M., &amp; D’Agostino, C. (2021). Impact of environment on Bicycle Travel Demand—assessment using bikeshare System data. Sustainable Cities and Society, 67, 102724. https://doi.org/10.1016/j.scs.2021.102724 <br>\n",
    "<a id=\"Brodeur\"></a>4.[^](#Brodeur): Brodeur, Abel & Nield, Kerry. (2018). An empirical analysis of taxi, Lyft and Uber rides: Evidence from weather shocks in NYC. Journal of Economic Behavior & Organization. 152. 1-16. 10.1016/j.jebo.2018.06.004. https://support.sas.com/resources/papers/proceedings17/1260-2017.pdf <br>\n",
    "<a id=\"Fanaee\"></a>5.[^](#Fanaee): Fanaee-T, Hadi & Gama, João. (2014). Event labeling combining ensemble detectors and background knowledge. Progress in Artificial Intelligence. 2. 113-127. 10.1007/s13748-013-0040-3. https://www.researchgate.net/publication/259009057_Event_labeling_combining_ensemble_detectors_and_background_knowledge "
   ]
  },
  {
   "cell_type": "code",
   "execution_count": null,
   "metadata": {},
   "outputs": [],
   "source": []
  }
 ],
 "metadata": {
  "kernelspec": {
   "display_name": "base",
   "language": "python",
   "name": "python3"
  },
  "language_info": {
   "codemirror_mode": {
    "name": "ipython",
    "version": 3
   },
   "file_extension": ".py",
   "mimetype": "text/x-python",
   "name": "python",
   "nbconvert_exporter": "python",
   "pygments_lexer": "ipython3",
   "version": "3.8.12"
  },
  "vscode": {
   "interpreter": {
    "hash": "47cc4fd0586263b11511ee7fa7432e18c20557301b2f4a0f0181a1e6fefe3b07"
   }
  }
 },
 "nbformat": 4,
 "nbformat_minor": 2
}
